{
 "cells": [
  {
   "cell_type": "code",
   "execution_count": 10,
   "metadata": {},
   "outputs": [],
   "source": [
    "import os\n",
    "import pandas as pd\n",
    "import numpy as np"
   ]
  },
  {
   "cell_type": "code",
   "execution_count": 11,
   "metadata": {},
   "outputs": [],
   "source": [
    "data_folder = \"../raw_data\"\n",
    "\n",
    "yellow_data_path = os.path.join(data_folder, \"yellow_data.csv\")\n",
    "green_data_path = os.path.join(data_folder, \"green_data.csv\")\n",
    "\n",
    "yellow_df = pd.read_csv(yellow_data_path)\n",
    "green_df = pd.read_csv(green_data_path)"
   ]
  },
  {
   "cell_type": "code",
   "execution_count": 12,
   "metadata": {},
   "outputs": [],
   "source": [
    "yellow_df['taxi_type'] = 'yellow'\n",
    "green_df['taxi_type'] = 'green'\n",
    "\n",
    "yellow_df.rename(columns={'tpep_dropoff_datetime': 'dropoff_datetime'}, inplace=True)\n",
    "green_df.rename(columns={'lpep_dropoff_datetime': 'dropoff_datetime'}, inplace=True)\n",
    "\n",
    "yellow_df.rename(columns={'tpep_pickup_datetime': 'pickup_datetime'}, inplace=True)\n",
    "green_df.rename(columns={'lpep_pickup_datetime': 'pickup_datetime'}, inplace=True)\n",
    "\n",
    "green_df.drop(columns=['trip_type'], inplace=True)"
   ]
  },
  {
   "cell_type": "code",
   "execution_count": 13,
   "metadata": {},
   "outputs": [],
   "source": [
    "common_columns = yellow_df.columns.intersection(green_df.columns)\n",
    "\n",
    "merged_df = pd.concat([yellow_df[common_columns], green_df[common_columns]], ignore_index=True)\n"
   ]
  },
  {
   "cell_type": "code",
   "execution_count": 14,
   "metadata": {},
   "outputs": [
    {
     "name": "stdout",
     "output_type": "stream",
     "text": [
      "Percentage of missing values per column:\n",
      "vendorid                 3.281909\n",
      "pickup_datetime          0.000000\n",
      "dropoff_datetime         0.000000\n",
      "passenger_count          3.281909\n",
      "trip_distance            0.000000\n",
      "ratecodeid               3.281909\n",
      "store_and_fwd_flag       3.281909\n",
      "pulocationid             0.000000\n",
      "dolocationid             0.000000\n",
      "payment_type             3.281909\n",
      "fare_amount              0.000000\n",
      "extra                    0.000000\n",
      "mta_tax                  0.000000\n",
      "tip_amount               0.000000\n",
      "tolls_amount             0.000000\n",
      "improvement_surcharge    0.000000\n",
      "total_amount             0.000000\n",
      "congestion_surcharge     3.281909\n",
      "taxi_type                0.000000\n",
      "dtype: float64\n",
      "\n",
      "Total percentage of missing values in the dataset: 1.04%\n",
      "Percentage of rows with missing values: 3.28%\n",
      "Percentage of rows with missing values after removal: 0.00%\n"
     ]
    }
   ],
   "source": [
    "missing_percentage = merged_df.isna().mean() * 100\n",
    "print(\"Percentage of missing values per column:\")\n",
    "print(missing_percentage)\n",
    "\n",
    "total_missing_percentage = merged_df.isna().mean().mean() * 100\n",
    "print(f\"\\nTotal percentage of missing values in the dataset: {total_missing_percentage:.2f}%\")\n",
    "\n",
    "missing_rows_percentage = merged_df.isna().any(axis=1).mean() * 100\n",
    "\n",
    "print(f\"Percentage of rows with missing values: {missing_rows_percentage:.2f}%\")\n",
    "\n",
    "merged_df.dropna(inplace=True)\n",
    "\n",
    "missing_rows_percentage = merged_df.isna().any(axis=1).mean() * 100\n",
    "\n",
    "print(f\"Percentage of rows with missing values after removal: {missing_rows_percentage:.2f}%\")"
   ]
  },
  {
   "cell_type": "code",
   "execution_count": 15,
   "metadata": {},
   "outputs": [
    {
     "name": "stdout",
     "output_type": "stream",
     "text": [
      "\n",
      "Data preprocessing completed. Preprocessed data saved to 'preprocessed_taxi_data.csv'.\n"
     ]
    }
   ],
   "source": [
    "preprocessed_data_path = os.path.join(data_folder, \"preprocessed_taxi_data.csv\")\n",
    "merged_df.to_csv(preprocessed_data_path, index=False)\n",
    "\n",
    "print(\"\\nData preprocessing completed. Preprocessed data saved to 'preprocessed_taxi_data.csv'.\")"
   ]
  }
 ],
 "metadata": {
  "kernelspec": {
   "display_name": "Python 3",
   "language": "python",
   "name": "python3"
  },
  "language_info": {
   "codemirror_mode": {
    "name": "ipython",
    "version": 3
   },
   "file_extension": ".py",
   "mimetype": "text/x-python",
   "name": "python",
   "nbconvert_exporter": "python",
   "pygments_lexer": "ipython3",
   "version": "3.10.12"
  }
 },
 "nbformat": 4,
 "nbformat_minor": 2
}
