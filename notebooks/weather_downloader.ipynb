{
 "cells": [
  {
   "cell_type": "code",
   "execution_count": 3,
   "metadata": {},
   "outputs": [],
   "source": [
    "import requests\n",
    "import json\n",
    "import os"
   ]
  },
  {
   "cell_type": "code",
   "execution_count": 4,
   "metadata": {},
   "outputs": [],
   "source": [
    "url = \"https://meteostat.p.rapidapi.com/point/daily\"\n",
    "\n",
    "querystring = {\n",
    "    \"lat\": \"40.7128\",  # Latitude for New York City\n",
    "    \"lon\": \"-74.0060\",  # Longitude for New York City\n",
    "    \"alt\": \"10\",        # Approximate altitude for NYC in meters\n",
    "    \"start\": \"2021-01-01\",  # Start of the year 2021\n",
    "    \"end\": \"2021-12-31\",    # End of the year 2021\n",
    "}\n",
    "\n",
    "headers = {\n",
    "\t\"x-rapidapi-key\": \"9adb165484msh000fedf0674c37dp1626e7jsnbb6203d46100\",\n",
    "\t\"x-rapidapi-host\": \"meteostat.p.rapidapi.com\"\n",
    "}\n"
   ]
  },
  {
   "cell_type": "code",
   "execution_count": 5,
   "metadata": {},
   "outputs": [
    {
     "name": "stdout",
     "output_type": "stream",
     "text": [
      "Weather data saved to '../raw_data/weather_data.json'.\n"
     ]
    }
   ],
   "source": [
    "response = requests.get(url, headers=headers, params=querystring)\n",
    "\n",
    "if response.status_code == 200:\n",
    "    weather_data = response.json()\n",
    "\n",
    "    raw_data_folder = \"../raw_data\"\n",
    "    output_file = os.path.join(raw_data_folder, \"weather_data.json\")\n",
    "\n",
    "    with open(output_file, \"w\") as f:\n",
    "        json.dump(weather_data, f, indent=4)\n",
    "\n",
    "    print(f\"Weather data saved to '{output_file}'.\")\n",
    "else:\n",
    "    print(f\"Failed to fetch data. Status code: {response.status_code}\")\n",
    "    print(f\"Response: {response.text}\")"
   ]
  }
 ],
 "metadata": {
  "kernelspec": {
   "display_name": "Python 3",
   "language": "python",
   "name": "python3"
  },
  "language_info": {
   "codemirror_mode": {
    "name": "ipython",
    "version": 3
   },
   "file_extension": ".py",
   "mimetype": "text/x-python",
   "name": "python",
   "nbconvert_exporter": "python",
   "pygments_lexer": "ipython3",
   "version": "3.10.12"
  }
 },
 "nbformat": 4,
 "nbformat_minor": 2
}
